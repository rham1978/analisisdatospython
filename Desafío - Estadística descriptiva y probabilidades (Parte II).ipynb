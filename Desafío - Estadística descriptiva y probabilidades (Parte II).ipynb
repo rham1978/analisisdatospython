{
 "cells": [
  {
   "cell_type": "code",
   "execution_count": 1,
   "id": "01bc460c",
   "metadata": {},
   "outputs": [],
   "source": [
    "import pandas as pd\n",
    "import numpy as np"
   ]
  },
  {
   "cell_type": "code",
   "execution_count": 2,
   "id": "7322e07e",
   "metadata": {},
   "outputs": [
    {
     "data": {
      "text/html": [
       "<div>\n",
       "<style scoped>\n",
       "    .dataframe tbody tr th:only-of-type {\n",
       "        vertical-align: middle;\n",
       "    }\n",
       "\n",
       "    .dataframe tbody tr th {\n",
       "        vertical-align: top;\n",
       "    }\n",
       "\n",
       "    .dataframe thead th {\n",
       "        text-align: right;\n",
       "    }\n",
       "</style>\n",
       "<table border=\"1\" class=\"dataframe\">\n",
       "  <thead>\n",
       "    <tr style=\"text-align: right;\">\n",
       "      <th></th>\n",
       "      <th>team</th>\n",
       "      <th>continent</th>\n",
       "      <th>group</th>\n",
       "      <th>group_pos</th>\n",
       "      <th>cantidad_juegos</th>\n",
       "      <th>juegos_ganados</th>\n",
       "      <th>juegos_empatados</th>\n",
       "      <th>juegos_perdidos</th>\n",
       "      <th>goles_favor</th>\n",
       "      <th>goles_contra</th>\n",
       "      <th>goles_diferencia</th>\n",
       "      <th>puntos</th>\n",
       "      <th>clasificado</th>\n",
       "    </tr>\n",
       "  </thead>\n",
       "  <tbody>\n",
       "    <tr>\n",
       "      <th>0</th>\n",
       "      <td>Brazil</td>\n",
       "      <td>southamerica</td>\n",
       "      <td>A</td>\n",
       "      <td>1</td>\n",
       "      <td>3</td>\n",
       "      <td>2</td>\n",
       "      <td>1</td>\n",
       "      <td>0</td>\n",
       "      <td>7</td>\n",
       "      <td>2</td>\n",
       "      <td>5</td>\n",
       "      <td>7</td>\n",
       "      <td>1</td>\n",
       "    </tr>\n",
       "    <tr>\n",
       "      <th>1</th>\n",
       "      <td>Mexico</td>\n",
       "      <td>northamerica</td>\n",
       "      <td>A</td>\n",
       "      <td>2</td>\n",
       "      <td>3</td>\n",
       "      <td>2</td>\n",
       "      <td>1</td>\n",
       "      <td>0</td>\n",
       "      <td>4</td>\n",
       "      <td>1</td>\n",
       "      <td>3</td>\n",
       "      <td>7</td>\n",
       "      <td>1</td>\n",
       "    </tr>\n",
       "    <tr>\n",
       "      <th>2</th>\n",
       "      <td>Croatia</td>\n",
       "      <td>europe</td>\n",
       "      <td>A</td>\n",
       "      <td>3</td>\n",
       "      <td>3</td>\n",
       "      <td>1</td>\n",
       "      <td>0</td>\n",
       "      <td>2</td>\n",
       "      <td>6</td>\n",
       "      <td>6</td>\n",
       "      <td>0</td>\n",
       "      <td>3</td>\n",
       "      <td>0</td>\n",
       "    </tr>\n",
       "    <tr>\n",
       "      <th>3</th>\n",
       "      <td>Cameroon</td>\n",
       "      <td>africa</td>\n",
       "      <td>A</td>\n",
       "      <td>4</td>\n",
       "      <td>3</td>\n",
       "      <td>0</td>\n",
       "      <td>0</td>\n",
       "      <td>3</td>\n",
       "      <td>1</td>\n",
       "      <td>9</td>\n",
       "      <td>−8</td>\n",
       "      <td>0</td>\n",
       "      <td>0</td>\n",
       "    </tr>\n",
       "    <tr>\n",
       "      <th>4</th>\n",
       "      <td>Netherlands</td>\n",
       "      <td>europe</td>\n",
       "      <td>B</td>\n",
       "      <td>1</td>\n",
       "      <td>3</td>\n",
       "      <td>3</td>\n",
       "      <td>0</td>\n",
       "      <td>0</td>\n",
       "      <td>10</td>\n",
       "      <td>3</td>\n",
       "      <td>7</td>\n",
       "      <td>9</td>\n",
       "      <td>1</td>\n",
       "    </tr>\n",
       "    <tr>\n",
       "      <th>5</th>\n",
       "      <td>Chile</td>\n",
       "      <td>southamerica</td>\n",
       "      <td>B</td>\n",
       "      <td>2</td>\n",
       "      <td>3</td>\n",
       "      <td>2</td>\n",
       "      <td>0</td>\n",
       "      <td>1</td>\n",
       "      <td>5</td>\n",
       "      <td>3</td>\n",
       "      <td>2</td>\n",
       "      <td>6</td>\n",
       "      <td>1</td>\n",
       "    </tr>\n",
       "    <tr>\n",
       "      <th>6</th>\n",
       "      <td>Spain</td>\n",
       "      <td>europe</td>\n",
       "      <td>B</td>\n",
       "      <td>3</td>\n",
       "      <td>3</td>\n",
       "      <td>1</td>\n",
       "      <td>0</td>\n",
       "      <td>2</td>\n",
       "      <td>4</td>\n",
       "      <td>7</td>\n",
       "      <td>−3</td>\n",
       "      <td>3</td>\n",
       "      <td>0</td>\n",
       "    </tr>\n",
       "    <tr>\n",
       "      <th>7</th>\n",
       "      <td>Australia</td>\n",
       "      <td>asia</td>\n",
       "      <td>B</td>\n",
       "      <td>4</td>\n",
       "      <td>3</td>\n",
       "      <td>0</td>\n",
       "      <td>0</td>\n",
       "      <td>3</td>\n",
       "      <td>3</td>\n",
       "      <td>9</td>\n",
       "      <td>−6</td>\n",
       "      <td>0</td>\n",
       "      <td>0</td>\n",
       "    </tr>\n",
       "    <tr>\n",
       "      <th>8</th>\n",
       "      <td>Colombia</td>\n",
       "      <td>southamerica</td>\n",
       "      <td>C</td>\n",
       "      <td>1</td>\n",
       "      <td>3</td>\n",
       "      <td>3</td>\n",
       "      <td>0</td>\n",
       "      <td>0</td>\n",
       "      <td>9</td>\n",
       "      <td>2</td>\n",
       "      <td>7</td>\n",
       "      <td>9</td>\n",
       "      <td>1</td>\n",
       "    </tr>\n",
       "    <tr>\n",
       "      <th>9</th>\n",
       "      <td>Greece</td>\n",
       "      <td>europe</td>\n",
       "      <td>C</td>\n",
       "      <td>2</td>\n",
       "      <td>3</td>\n",
       "      <td>1</td>\n",
       "      <td>1</td>\n",
       "      <td>1</td>\n",
       "      <td>2</td>\n",
       "      <td>4</td>\n",
       "      <td>−2</td>\n",
       "      <td>4</td>\n",
       "      <td>1</td>\n",
       "    </tr>\n",
       "    <tr>\n",
       "      <th>10</th>\n",
       "      <td>Ivory Coast</td>\n",
       "      <td>africa</td>\n",
       "      <td>C</td>\n",
       "      <td>3</td>\n",
       "      <td>3</td>\n",
       "      <td>1</td>\n",
       "      <td>0</td>\n",
       "      <td>2</td>\n",
       "      <td>4</td>\n",
       "      <td>5</td>\n",
       "      <td>−1</td>\n",
       "      <td>3</td>\n",
       "      <td>0</td>\n",
       "    </tr>\n",
       "    <tr>\n",
       "      <th>11</th>\n",
       "      <td>Japan</td>\n",
       "      <td>asia</td>\n",
       "      <td>C</td>\n",
       "      <td>4</td>\n",
       "      <td>3</td>\n",
       "      <td>0</td>\n",
       "      <td>1</td>\n",
       "      <td>2</td>\n",
       "      <td>2</td>\n",
       "      <td>6</td>\n",
       "      <td>−4</td>\n",
       "      <td>1</td>\n",
       "      <td>0</td>\n",
       "    </tr>\n",
       "    <tr>\n",
       "      <th>12</th>\n",
       "      <td>Costa Rica</td>\n",
       "      <td>northamerica</td>\n",
       "      <td>D</td>\n",
       "      <td>1</td>\n",
       "      <td>3</td>\n",
       "      <td>2</td>\n",
       "      <td>1</td>\n",
       "      <td>0</td>\n",
       "      <td>4</td>\n",
       "      <td>1</td>\n",
       "      <td>3</td>\n",
       "      <td>7</td>\n",
       "      <td>1</td>\n",
       "    </tr>\n",
       "    <tr>\n",
       "      <th>13</th>\n",
       "      <td>Uruguay</td>\n",
       "      <td>southamerica</td>\n",
       "      <td>D</td>\n",
       "      <td>2</td>\n",
       "      <td>3</td>\n",
       "      <td>2</td>\n",
       "      <td>0</td>\n",
       "      <td>1</td>\n",
       "      <td>4</td>\n",
       "      <td>4</td>\n",
       "      <td>0</td>\n",
       "      <td>6</td>\n",
       "      <td>1</td>\n",
       "    </tr>\n",
       "    <tr>\n",
       "      <th>14</th>\n",
       "      <td>Italy</td>\n",
       "      <td>europe</td>\n",
       "      <td>D</td>\n",
       "      <td>3</td>\n",
       "      <td>3</td>\n",
       "      <td>1</td>\n",
       "      <td>0</td>\n",
       "      <td>2</td>\n",
       "      <td>2</td>\n",
       "      <td>3</td>\n",
       "      <td>−1</td>\n",
       "      <td>3</td>\n",
       "      <td>0</td>\n",
       "    </tr>\n",
       "    <tr>\n",
       "      <th>15</th>\n",
       "      <td>England</td>\n",
       "      <td>europe</td>\n",
       "      <td>D</td>\n",
       "      <td>4</td>\n",
       "      <td>3</td>\n",
       "      <td>0</td>\n",
       "      <td>1</td>\n",
       "      <td>2</td>\n",
       "      <td>2</td>\n",
       "      <td>4</td>\n",
       "      <td>−2</td>\n",
       "      <td>1</td>\n",
       "      <td>0</td>\n",
       "    </tr>\n",
       "    <tr>\n",
       "      <th>16</th>\n",
       "      <td>France</td>\n",
       "      <td>europe</td>\n",
       "      <td>E</td>\n",
       "      <td>1</td>\n",
       "      <td>3</td>\n",
       "      <td>2</td>\n",
       "      <td>1</td>\n",
       "      <td>0</td>\n",
       "      <td>8</td>\n",
       "      <td>2</td>\n",
       "      <td>6</td>\n",
       "      <td>7</td>\n",
       "      <td>1</td>\n",
       "    </tr>\n",
       "    <tr>\n",
       "      <th>17</th>\n",
       "      <td>Switzerland</td>\n",
       "      <td>europe</td>\n",
       "      <td>E</td>\n",
       "      <td>2</td>\n",
       "      <td>3</td>\n",
       "      <td>2</td>\n",
       "      <td>0</td>\n",
       "      <td>1</td>\n",
       "      <td>7</td>\n",
       "      <td>6</td>\n",
       "      <td>1</td>\n",
       "      <td>6</td>\n",
       "      <td>1</td>\n",
       "    </tr>\n",
       "    <tr>\n",
       "      <th>18</th>\n",
       "      <td>Ecuador</td>\n",
       "      <td>southamerica</td>\n",
       "      <td>E</td>\n",
       "      <td>3</td>\n",
       "      <td>3</td>\n",
       "      <td>1</td>\n",
       "      <td>1</td>\n",
       "      <td>1</td>\n",
       "      <td>3</td>\n",
       "      <td>3</td>\n",
       "      <td>0</td>\n",
       "      <td>4</td>\n",
       "      <td>0</td>\n",
       "    </tr>\n",
       "    <tr>\n",
       "      <th>19</th>\n",
       "      <td>Honduras</td>\n",
       "      <td>northamerica</td>\n",
       "      <td>E</td>\n",
       "      <td>4</td>\n",
       "      <td>3</td>\n",
       "      <td>0</td>\n",
       "      <td>0</td>\n",
       "      <td>3</td>\n",
       "      <td>1</td>\n",
       "      <td>8</td>\n",
       "      <td>−7</td>\n",
       "      <td>0</td>\n",
       "      <td>0</td>\n",
       "    </tr>\n",
       "    <tr>\n",
       "      <th>20</th>\n",
       "      <td>Argentina</td>\n",
       "      <td>southamerica</td>\n",
       "      <td>F</td>\n",
       "      <td>1</td>\n",
       "      <td>3</td>\n",
       "      <td>3</td>\n",
       "      <td>0</td>\n",
       "      <td>0</td>\n",
       "      <td>6</td>\n",
       "      <td>3</td>\n",
       "      <td>3</td>\n",
       "      <td>9</td>\n",
       "      <td>1</td>\n",
       "    </tr>\n",
       "    <tr>\n",
       "      <th>21</th>\n",
       "      <td>Nigeria</td>\n",
       "      <td>africa</td>\n",
       "      <td>F</td>\n",
       "      <td>2</td>\n",
       "      <td>3</td>\n",
       "      <td>1</td>\n",
       "      <td>1</td>\n",
       "      <td>1</td>\n",
       "      <td>3</td>\n",
       "      <td>3</td>\n",
       "      <td>0</td>\n",
       "      <td>4</td>\n",
       "      <td>1</td>\n",
       "    </tr>\n",
       "    <tr>\n",
       "      <th>22</th>\n",
       "      <td>Bosnia and Herzegovina</td>\n",
       "      <td>europe</td>\n",
       "      <td>F</td>\n",
       "      <td>3</td>\n",
       "      <td>3</td>\n",
       "      <td>1</td>\n",
       "      <td>0</td>\n",
       "      <td>2</td>\n",
       "      <td>4</td>\n",
       "      <td>4</td>\n",
       "      <td>0</td>\n",
       "      <td>3</td>\n",
       "      <td>0</td>\n",
       "    </tr>\n",
       "    <tr>\n",
       "      <th>23</th>\n",
       "      <td>Iran</td>\n",
       "      <td>asia</td>\n",
       "      <td>F</td>\n",
       "      <td>4</td>\n",
       "      <td>3</td>\n",
       "      <td>0</td>\n",
       "      <td>1</td>\n",
       "      <td>2</td>\n",
       "      <td>1</td>\n",
       "      <td>4</td>\n",
       "      <td>−3</td>\n",
       "      <td>1</td>\n",
       "      <td>0</td>\n",
       "    </tr>\n",
       "    <tr>\n",
       "      <th>24</th>\n",
       "      <td>Germany</td>\n",
       "      <td>europe</td>\n",
       "      <td>G</td>\n",
       "      <td>1</td>\n",
       "      <td>3</td>\n",
       "      <td>2</td>\n",
       "      <td>1</td>\n",
       "      <td>0</td>\n",
       "      <td>7</td>\n",
       "      <td>2</td>\n",
       "      <td>5</td>\n",
       "      <td>7</td>\n",
       "      <td>1</td>\n",
       "    </tr>\n",
       "    <tr>\n",
       "      <th>25</th>\n",
       "      <td>United States</td>\n",
       "      <td>northamerica</td>\n",
       "      <td>G</td>\n",
       "      <td>2</td>\n",
       "      <td>3</td>\n",
       "      <td>1</td>\n",
       "      <td>1</td>\n",
       "      <td>1</td>\n",
       "      <td>4</td>\n",
       "      <td>4</td>\n",
       "      <td>0</td>\n",
       "      <td>4</td>\n",
       "      <td>1</td>\n",
       "    </tr>\n",
       "    <tr>\n",
       "      <th>26</th>\n",
       "      <td>Portugal</td>\n",
       "      <td>europe</td>\n",
       "      <td>G</td>\n",
       "      <td>3</td>\n",
       "      <td>3</td>\n",
       "      <td>1</td>\n",
       "      <td>1</td>\n",
       "      <td>1</td>\n",
       "      <td>4</td>\n",
       "      <td>7</td>\n",
       "      <td>−3</td>\n",
       "      <td>4</td>\n",
       "      <td>0</td>\n",
       "    </tr>\n",
       "    <tr>\n",
       "      <th>27</th>\n",
       "      <td>Ghana</td>\n",
       "      <td>africa</td>\n",
       "      <td>G</td>\n",
       "      <td>4</td>\n",
       "      <td>3</td>\n",
       "      <td>0</td>\n",
       "      <td>1</td>\n",
       "      <td>2</td>\n",
       "      <td>4</td>\n",
       "      <td>6</td>\n",
       "      <td>−2</td>\n",
       "      <td>1</td>\n",
       "      <td>0</td>\n",
       "    </tr>\n",
       "    <tr>\n",
       "      <th>28</th>\n",
       "      <td>Belgium</td>\n",
       "      <td>europe</td>\n",
       "      <td>H</td>\n",
       "      <td>1</td>\n",
       "      <td>3</td>\n",
       "      <td>3</td>\n",
       "      <td>0</td>\n",
       "      <td>0</td>\n",
       "      <td>4</td>\n",
       "      <td>1</td>\n",
       "      <td>3</td>\n",
       "      <td>9</td>\n",
       "      <td>1</td>\n",
       "    </tr>\n",
       "    <tr>\n",
       "      <th>29</th>\n",
       "      <td>Algeria</td>\n",
       "      <td>africa</td>\n",
       "      <td>H</td>\n",
       "      <td>2</td>\n",
       "      <td>3</td>\n",
       "      <td>1</td>\n",
       "      <td>1</td>\n",
       "      <td>1</td>\n",
       "      <td>6</td>\n",
       "      <td>5</td>\n",
       "      <td>1</td>\n",
       "      <td>4</td>\n",
       "      <td>1</td>\n",
       "    </tr>\n",
       "    <tr>\n",
       "      <th>30</th>\n",
       "      <td>Russia</td>\n",
       "      <td>europe</td>\n",
       "      <td>H</td>\n",
       "      <td>3</td>\n",
       "      <td>3</td>\n",
       "      <td>0</td>\n",
       "      <td>2</td>\n",
       "      <td>1</td>\n",
       "      <td>2</td>\n",
       "      <td>3</td>\n",
       "      <td>−1</td>\n",
       "      <td>2</td>\n",
       "      <td>0</td>\n",
       "    </tr>\n",
       "    <tr>\n",
       "      <th>31</th>\n",
       "      <td>South Korea</td>\n",
       "      <td>asia</td>\n",
       "      <td>H</td>\n",
       "      <td>4</td>\n",
       "      <td>3</td>\n",
       "      <td>0</td>\n",
       "      <td>1</td>\n",
       "      <td>2</td>\n",
       "      <td>3</td>\n",
       "      <td>6</td>\n",
       "      <td>−3</td>\n",
       "      <td>1</td>\n",
       "      <td>0</td>\n",
       "    </tr>\n",
       "  </tbody>\n",
       "</table>\n",
       "</div>"
      ],
      "text/plain": [
       "                      team     continent group  group_pos  cantidad_juegos  \\\n",
       "0                   Brazil  southamerica     A          1                3   \n",
       "1                   Mexico  northamerica     A          2                3   \n",
       "2                  Croatia        europe     A          3                3   \n",
       "3                 Cameroon        africa     A          4                3   \n",
       "4              Netherlands        europe     B          1                3   \n",
       "5                    Chile  southamerica     B          2                3   \n",
       "6                    Spain        europe     B          3                3   \n",
       "7                Australia          asia     B          4                3   \n",
       "8                 Colombia  southamerica     C          1                3   \n",
       "9                   Greece        europe     C          2                3   \n",
       "10             Ivory Coast        africa     C          3                3   \n",
       "11                   Japan          asia     C          4                3   \n",
       "12              Costa Rica  northamerica     D          1                3   \n",
       "13                 Uruguay  southamerica     D          2                3   \n",
       "14                   Italy        europe     D          3                3   \n",
       "15                 England        europe     D          4                3   \n",
       "16                  France        europe     E          1                3   \n",
       "17             Switzerland        europe     E          2                3   \n",
       "18                 Ecuador  southamerica     E          3                3   \n",
       "19                Honduras  northamerica     E          4                3   \n",
       "20               Argentina  southamerica     F          1                3   \n",
       "21                 Nigeria        africa     F          2                3   \n",
       "22  Bosnia and Herzegovina        europe     F          3                3   \n",
       "23                    Iran          asia     F          4                3   \n",
       "24                 Germany        europe     G          1                3   \n",
       "25           United States  northamerica     G          2                3   \n",
       "26                Portugal        europe     G          3                3   \n",
       "27                   Ghana        africa     G          4                3   \n",
       "28                 Belgium        europe     H          1                3   \n",
       "29                 Algeria        africa     H          2                3   \n",
       "30                  Russia        europe     H          3                3   \n",
       "31             South Korea          asia     H          4                3   \n",
       "\n",
       "    juegos_ganados  juegos_empatados  juegos_perdidos  goles_favor  \\\n",
       "0                2                 1                0            7   \n",
       "1                2                 1                0            4   \n",
       "2                1                 0                2            6   \n",
       "3                0                 0                3            1   \n",
       "4                3                 0                0           10   \n",
       "5                2                 0                1            5   \n",
       "6                1                 0                2            4   \n",
       "7                0                 0                3            3   \n",
       "8                3                 0                0            9   \n",
       "9                1                 1                1            2   \n",
       "10               1                 0                2            4   \n",
       "11               0                 1                2            2   \n",
       "12               2                 1                0            4   \n",
       "13               2                 0                1            4   \n",
       "14               1                 0                2            2   \n",
       "15               0                 1                2            2   \n",
       "16               2                 1                0            8   \n",
       "17               2                 0                1            7   \n",
       "18               1                 1                1            3   \n",
       "19               0                 0                3            1   \n",
       "20               3                 0                0            6   \n",
       "21               1                 1                1            3   \n",
       "22               1                 0                2            4   \n",
       "23               0                 1                2            1   \n",
       "24               2                 1                0            7   \n",
       "25               1                 1                1            4   \n",
       "26               1                 1                1            4   \n",
       "27               0                 1                2            4   \n",
       "28               3                 0                0            4   \n",
       "29               1                 1                1            6   \n",
       "30               0                 2                1            2   \n",
       "31               0                 1                2            3   \n",
       "\n",
       "    goles_contra goles_diferencia  puntos  clasificado  \n",
       "0              2                5       7            1  \n",
       "1              1                3       7            1  \n",
       "2              6                0       3            0  \n",
       "3              9               −8       0            0  \n",
       "4              3                7       9            1  \n",
       "5              3                2       6            1  \n",
       "6              7               −3       3            0  \n",
       "7              9               −6       0            0  \n",
       "8              2                7       9            1  \n",
       "9              4               −2       4            1  \n",
       "10             5               −1       3            0  \n",
       "11             6               −4       1            0  \n",
       "12             1                3       7            1  \n",
       "13             4                0       6            1  \n",
       "14             3               −1       3            0  \n",
       "15             4               −2       1            0  \n",
       "16             2                6       7            1  \n",
       "17             6                1       6            1  \n",
       "18             3                0       4            0  \n",
       "19             8               −7       0            0  \n",
       "20             3                3       9            1  \n",
       "21             3                0       4            1  \n",
       "22             4                0       3            0  \n",
       "23             4               −3       1            0  \n",
       "24             2                5       7            1  \n",
       "25             4                0       4            1  \n",
       "26             7               −3       4            0  \n",
       "27             6               −2       1            0  \n",
       "28             1                3       9            1  \n",
       "29             5                1       4            1  \n",
       "30             3               −1       2            0  \n",
       "31             6               −3       1            0  "
      ]
     },
     "execution_count": 2,
     "metadata": {},
     "output_type": "execute_result"
    }
   ],
   "source": [
    "df = pd.read_csv(\"C:/Users/Lenovo/anaconda3/worldcup2014.csv\",delimiter=',')\n",
    "df"
   ]
  },
  {
   "cell_type": "code",
   "execution_count": null,
   "id": "16135baf",
   "metadata": {},
   "outputs": [],
   "source": [
    "#1. Considerando el experimento de seleccionar un país participante al azar, se pide determinar las probabilidades de los siguientes sucesos:    "
   ]
  },
  {
   "cell_type": "code",
   "execution_count": 3,
   "id": "00c4cf0a",
   "metadata": {},
   "outputs": [
    {
     "name": "stdout",
     "output_type": "stream",
     "text": [
      "0.15625\n"
     ]
    }
   ],
   "source": [
    "#a.-pertenecer a África\n",
    "conteo_africa = df['continent'].value_counts()['africa']\n",
    "conteo_total = df['continent'].count()\n",
    "\n",
    "pertenecer_a_africa = conteo_africa / conteo_total \n",
    "print(pertenecer_a_africa)"
   ]
  },
  {
   "cell_type": "code",
   "execution_count": 4,
   "id": "b2957ff1",
   "metadata": {},
   "outputs": [
    {
     "name": "stdout",
     "output_type": "stream",
     "text": [
      "0.125\n"
     ]
    }
   ],
   "source": [
    "#b.-pertenecer a Asia\n",
    "conteo_asia = df['continent'].value_counts()['asia']\n",
    "\n",
    "pertenecer_a_asia = conteo_asia / conteo_total \n",
    "print(pertenecer_a_asia)"
   ]
  },
  {
   "cell_type": "code",
   "execution_count": 5,
   "id": "2688247c",
   "metadata": {},
   "outputs": [
    {
     "name": "stdout",
     "output_type": "stream",
     "text": [
      "0.40625\n"
     ]
    }
   ],
   "source": [
    "#c.-pertenecer a Europa\n",
    "conteo_europe = df['continent'].value_counts()['europe']\n",
    "\n",
    "pertenecer_a_europe = conteo_europe / conteo_total \n",
    "print(pertenecer_a_europe)"
   ]
  },
  {
   "cell_type": "code",
   "execution_count": 6,
   "id": "a3caa7af",
   "metadata": {},
   "outputs": [
    {
     "name": "stdout",
     "output_type": "stream",
     "text": [
      "0.125\n"
     ]
    }
   ],
   "source": [
    "#d.-pertenecer a Norteamérica\n",
    "conteo_northamerica = df['continent'].value_counts()['northamerica']\n",
    "\n",
    "pertenecer_a_northamerica = conteo_northamerica / conteo_total \n",
    "print(pertenecer_a_northamerica)"
   ]
  },
  {
   "cell_type": "code",
   "execution_count": 7,
   "id": "91364132",
   "metadata": {},
   "outputs": [
    {
     "name": "stdout",
     "output_type": "stream",
     "text": [
      "0.1875\n"
     ]
    }
   ],
   "source": [
    "#e.-pertenecer a Sudamérica\n",
    "conteo_southamerica = df['continent'].value_counts()['southamerica']\n",
    "\n",
    "pertenecer_a_southamerica = conteo_southamerica / conteo_total \n",
    "print(pertenecer_a_southamerica)"
   ]
  },
  {
   "cell_type": "code",
   "execution_count": 8,
   "id": "3681cd53",
   "metadata": {},
   "outputs": [],
   "source": [
    "#f.clasificar a segunda ronda\n",
    "clasificacion_segunda_ronda = df['clasificado'] == 1"
   ]
  },
  {
   "cell_type": "code",
   "execution_count": 9,
   "id": "791fabe4",
   "metadata": {},
   "outputs": [
    {
     "data": {
      "text/plain": [
       "0.5"
      ]
     },
     "execution_count": 9,
     "metadata": {},
     "output_type": "execute_result"
    }
   ],
   "source": [
    "prob_clasificacion_segunda_ronda = clasificacion_segunda_ronda.sum() / conteo_total \n",
    "prob_clasificacion_segunda_ronda\n"
   ]
  },
  {
   "cell_type": "code",
   "execution_count": 10,
   "id": "81b0086a",
   "metadata": {},
   "outputs": [],
   "source": [
    "#g. ganar al menos un partido\n",
    "\n",
    "ganar_al_menos_un_partido  = df['juegos_ganados'] >=1"
   ]
  },
  {
   "cell_type": "code",
   "execution_count": 11,
   "id": "71f2e0d4",
   "metadata": {},
   "outputs": [
    {
     "data": {
      "text/plain": [
       "0.71875"
      ]
     },
     "execution_count": 11,
     "metadata": {},
     "output_type": "execute_result"
    }
   ],
   "source": [
    "prob_ganar_al_menos_un_partido = ganar_al_menos_un_partido.sum() / conteo_total \n",
    "prob_ganar_al_menos_un_partido"
   ]
  },
  {
   "cell_type": "code",
   "execution_count": 22,
   "id": "0a6e0130",
   "metadata": {},
   "outputs": [
    {
     "data": {
      "text/plain": [
       "0     False\n",
       "1     False\n",
       "2     False\n",
       "3      True\n",
       "4     False\n",
       "5     False\n",
       "6     False\n",
       "7     False\n",
       "8     False\n",
       "9     False\n",
       "10     True\n",
       "11    False\n",
       "12    False\n",
       "13    False\n",
       "14    False\n",
       "15    False\n",
       "16    False\n",
       "17    False\n",
       "18    False\n",
       "19    False\n",
       "20    False\n",
       "21     True\n",
       "22    False\n",
       "23    False\n",
       "24    False\n",
       "25    False\n",
       "26    False\n",
       "27     True\n",
       "28    False\n",
       "29     True\n",
       "30    False\n",
       "31    False\n",
       "Name: continent, dtype: bool"
      ]
     },
     "execution_count": 22,
     "metadata": {},
     "output_type": "execute_result"
    }
   ],
   "source": [
    "#h. pertenecer a África y clasificar a segunda ronda\n",
    "df['continent']== 'africa'"
   ]
  },
  {
   "cell_type": "code",
   "execution_count": 23,
   "id": "7ca2c3de",
   "metadata": {},
   "outputs": [
    {
     "data": {
      "text/plain": [
       "0      True\n",
       "1      True\n",
       "2     False\n",
       "3     False\n",
       "4      True\n",
       "5      True\n",
       "6     False\n",
       "7     False\n",
       "8      True\n",
       "9      True\n",
       "10    False\n",
       "11    False\n",
       "12     True\n",
       "13     True\n",
       "14    False\n",
       "15    False\n",
       "16     True\n",
       "17     True\n",
       "18    False\n",
       "19    False\n",
       "20     True\n",
       "21     True\n",
       "22    False\n",
       "23    False\n",
       "24     True\n",
       "25     True\n",
       "26    False\n",
       "27    False\n",
       "28     True\n",
       "29     True\n",
       "30    False\n",
       "31    False\n",
       "Name: clasificado, dtype: bool"
      ]
     },
     "execution_count": 23,
     "metadata": {},
     "output_type": "execute_result"
    }
   ],
   "source": [
    "df['clasificado'] == 1 "
   ]
  },
  {
   "cell_type": "code",
   "execution_count": 28,
   "id": "36f124f1",
   "metadata": {},
   "outputs": [
    {
     "data": {
      "text/plain": [
       "2"
      ]
     },
     "execution_count": 28,
     "metadata": {},
     "output_type": "execute_result"
    }
   ],
   "source": [
    "cantidad_africa_clasifique=df[(df['continent']== 'africa') &  (df['clasificado'] == 1)].shape[0]\n",
    "cantidad_africa_clasifique"
   ]
  },
  {
   "cell_type": "code",
   "execution_count": 29,
   "id": "e5c8a7ee",
   "metadata": {},
   "outputs": [
    {
     "data": {
      "text/plain": [
       "0.0625"
      ]
     },
     "execution_count": 29,
     "metadata": {},
     "output_type": "execute_result"
    }
   ],
   "source": [
    "prob_pertenecer_africa_y_clasificar_segunda_ronda =cantidad_africa_clasifique / df.shape[0]\n",
    "prob_pertenecer_africa_y_clasificar_segunda_ronda"
   ]
  },
  {
   "cell_type": "code",
   "execution_count": 30,
   "id": "b79dc141",
   "metadata": {},
   "outputs": [
    {
     "data": {
      "text/plain": [
       "6"
      ]
     },
     "execution_count": 30,
     "metadata": {},
     "output_type": "execute_result"
    }
   ],
   "source": [
    "#i. pertenecer a Europa y clasificar a segunda ronda\n",
    "cantidad_europa_clasifique=df[(df['continent']== 'europe') &  (df['clasificado'] == 1)].shape[0]\n",
    "cantidad_europa_clasifique"
   ]
  },
  {
   "cell_type": "code",
   "execution_count": 31,
   "id": "5225827b",
   "metadata": {},
   "outputs": [
    {
     "data": {
      "text/plain": [
       "0.1875"
      ]
     },
     "execution_count": 31,
     "metadata": {},
     "output_type": "execute_result"
    }
   ],
   "source": [
    "prob_pertenecer_europa_y_clasificar_segunda_ronda =cantidad_europa_clasifique / df.shape[0]\n",
    "prob_pertenecer_europa_y_clasificar_segunda_ronda"
   ]
  },
  {
   "cell_type": "code",
   "execution_count": null,
   "id": "48bb7d25",
   "metadata": {},
   "outputs": [],
   "source": [
    "#j. pertenecer a Asia y clasificar a segunda ronda"
   ]
  },
  {
   "cell_type": "code",
   "execution_count": 32,
   "id": "2859cabe",
   "metadata": {},
   "outputs": [
    {
     "data": {
      "text/plain": [
       "0"
      ]
     },
     "execution_count": 32,
     "metadata": {},
     "output_type": "execute_result"
    }
   ],
   "source": [
    "cantidad_asia_clasifique=df[(df['continent']== 'asia') &  (df['clasificado'] == 1)].shape[0]\n",
    "cantidad_asia_clasifique"
   ]
  },
  {
   "cell_type": "code",
   "execution_count": 33,
   "id": "c9574257",
   "metadata": {},
   "outputs": [
    {
     "data": {
      "text/plain": [
       "0.0"
      ]
     },
     "execution_count": 33,
     "metadata": {},
     "output_type": "execute_result"
    }
   ],
   "source": [
    "prob_pertenecer_asia_y_clasificar_segunda_ronda =cantidad_asia_clasifique / df.shape[0]\n",
    "prob_pertenecer_asia_y_clasificar_segunda_ronda "
   ]
  },
  {
   "cell_type": "code",
   "execution_count": 34,
   "id": "a5eae649",
   "metadata": {},
   "outputs": [
    {
     "data": {
      "text/plain": [
       "5"
      ]
     },
     "execution_count": 34,
     "metadata": {},
     "output_type": "execute_result"
    }
   ],
   "source": [
    "#k. pertenecer a Sudamérica y clasificar a segunda ronda\n",
    "cantidad_southamerica_clasifique=df[(df['continent']== 'southamerica') &  (df['clasificado'] == 1)].shape[0]\n",
    "cantidad_southamerica_clasifique"
   ]
  },
  {
   "cell_type": "code",
   "execution_count": 35,
   "id": "eabebfde",
   "metadata": {},
   "outputs": [
    {
     "data": {
      "text/plain": [
       "0.15625"
      ]
     },
     "execution_count": 35,
     "metadata": {},
     "output_type": "execute_result"
    }
   ],
   "source": [
    "prob_pertenecer_southamerica_y_clasificar_segunda_ronda =cantidad_southamerica_clasifique / df.shape[0]\n",
    "prob_pertenecer_southamerica_y_clasificar_segunda_ronda "
   ]
  },
  {
   "cell_type": "code",
   "execution_count": 36,
   "id": "d1d445c1",
   "metadata": {},
   "outputs": [
    {
     "data": {
      "text/plain": [
       "3"
      ]
     },
     "execution_count": 36,
     "metadata": {},
     "output_type": "execute_result"
    }
   ],
   "source": [
    "#l. pertenecer a Norteamérica y clasificar a segunda ronda\n",
    "cantidad_northamerica_clasifique=df[(df['continent']== 'northamerica') &  (df['clasificado'] == 1)].shape[0]\n",
    "cantidad_northamerica_clasifique"
   ]
  },
  {
   "cell_type": "code",
   "execution_count": 37,
   "id": "5312902b",
   "metadata": {},
   "outputs": [
    {
     "data": {
      "text/plain": [
       "0.09375"
      ]
     },
     "execution_count": 37,
     "metadata": {},
     "output_type": "execute_result"
    }
   ],
   "source": [
    "prob_pertenecer_northamerica_y_clasificar_segunda_ronda =cantidad_northamerica_clasifique / df.shape[0]\n",
    "prob_pertenecer_northamerica_y_clasificar_segunda_ronda "
   ]
  },
  {
   "cell_type": "code",
   "execution_count": 40,
   "id": "5289a141",
   "metadata": {},
   "outputs": [
    {
     "data": {
      "text/plain": [
       "19"
      ]
     },
     "execution_count": 40,
     "metadata": {},
     "output_type": "execute_result"
    }
   ],
   "source": [
    "#m. pertenecer a África o clasificar a segunda ronda\n",
    "\n",
    "cantidad_africa_o_clasifique=df[(df['continent']== 'africa') |  (df['clasificado'] == 1)].shape[0]\n",
    "cantidad_africa_o_clasifique"
   ]
  },
  {
   "cell_type": "code",
   "execution_count": 41,
   "id": "977caec5",
   "metadata": {},
   "outputs": [
    {
     "data": {
      "text/plain": [
       "0.59375"
      ]
     },
     "execution_count": 41,
     "metadata": {},
     "output_type": "execute_result"
    }
   ],
   "source": [
    "prob_pertenecer_africa_o_clasificar_segunda_ronda =cantidad_africa_o_clasifique / df.shape[0]\n",
    "prob_pertenecer_africa_o_clasificar_segunda_ronda "
   ]
  },
  {
   "cell_type": "code",
   "execution_count": 42,
   "id": "17e916ae",
   "metadata": {},
   "outputs": [
    {
     "data": {
      "text/plain": [
       "23"
      ]
     },
     "execution_count": 42,
     "metadata": {},
     "output_type": "execute_result"
    }
   ],
   "source": [
    "#n. pertenecer a Europa o clasificar a segunda ronda\n",
    "\n",
    "cantidad_europe_o_clasifique=df[(df['continent']== 'europe') |  (df['clasificado'] == 1)].shape[0]\n",
    "cantidad_europe_o_clasifique"
   ]
  },
  {
   "cell_type": "code",
   "execution_count": 43,
   "id": "636db801",
   "metadata": {},
   "outputs": [
    {
     "data": {
      "text/plain": [
       "0.71875"
      ]
     },
     "execution_count": 43,
     "metadata": {},
     "output_type": "execute_result"
    }
   ],
   "source": [
    "prob_pertenecer_europa_o_clasificar_segunda_ronda =cantidad_europe_o_clasifique / df.shape[0]\n",
    "prob_pertenecer_europa_o_clasificar_segunda_ronda"
   ]
  },
  {
   "cell_type": "code",
   "execution_count": 44,
   "id": "6229ca82",
   "metadata": {},
   "outputs": [
    {
     "data": {
      "text/plain": [
       "20"
      ]
     },
     "execution_count": 44,
     "metadata": {},
     "output_type": "execute_result"
    }
   ],
   "source": [
    "#o. pertenecer a Asia o clasificar a segunda ronda\n",
    "cantidad_asia_o_clasifique=df[(df['continent']== 'asia') |  (df['clasificado'] == 1)].shape[0]\n",
    "cantidad_asia_o_clasifique"
   ]
  },
  {
   "cell_type": "code",
   "execution_count": 45,
   "id": "554ee293",
   "metadata": {},
   "outputs": [
    {
     "data": {
      "text/plain": [
       "0.625"
      ]
     },
     "execution_count": 45,
     "metadata": {},
     "output_type": "execute_result"
    }
   ],
   "source": [
    "prob_pertenecer_asia_o_clasificar_segunda_ronda =cantidad_asia_o_clasifique / df.shape[0]\n",
    "prob_pertenecer_asia_o_clasificar_segunda_ronda"
   ]
  },
  {
   "cell_type": "code",
   "execution_count": 46,
   "id": "1737d4f1",
   "metadata": {},
   "outputs": [
    {
     "data": {
      "text/plain": [
       "17"
      ]
     },
     "execution_count": 46,
     "metadata": {},
     "output_type": "execute_result"
    }
   ],
   "source": [
    "#p. pertenecer a Sudamérica o clasificar a segunda ronda\n",
    "cantidad_southamerica_o_clasifique=df[(df['continent']== 'southamerica') |  (df['clasificado'] == 1)].shape[0]\n",
    "cantidad_southamerica_o_clasifique"
   ]
  },
  {
   "cell_type": "code",
   "execution_count": 47,
   "id": "ffb86e63",
   "metadata": {},
   "outputs": [
    {
     "data": {
      "text/plain": [
       "0.53125"
      ]
     },
     "execution_count": 47,
     "metadata": {},
     "output_type": "execute_result"
    }
   ],
   "source": [
    "prob_pertenecer_southamerica_o_clasificar_segunda_ronda =cantidad_southamerica_o_clasifique / df.shape[0]\n",
    "prob_pertenecer_southamerica_o_clasificar_segunda_ronda"
   ]
  },
  {
   "cell_type": "code",
   "execution_count": 49,
   "id": "894fc0f0",
   "metadata": {},
   "outputs": [
    {
     "data": {
      "text/plain": [
       "17"
      ]
     },
     "execution_count": 49,
     "metadata": {},
     "output_type": "execute_result"
    }
   ],
   "source": [
    "#q. pertenecer a Norteamérica o clasificar a segunda ronda\n",
    "\n",
    "cantidad_northamerica_o_clasifique=df[(df['continent']== 'northamerica') |  (df['clasificado'] == 1)].shape[0]\n",
    "cantidad_northamerica_o_clasifique"
   ]
  },
  {
   "cell_type": "code",
   "execution_count": 50,
   "id": "30c1c326",
   "metadata": {},
   "outputs": [
    {
     "data": {
      "text/plain": [
       "0.53125"
      ]
     },
     "execution_count": 50,
     "metadata": {},
     "output_type": "execute_result"
    }
   ],
   "source": [
    "prob_pertenecer_northamerica_o_clasificar_segunda_ronda =cantidad_northamerica_o_clasifique / df.shape[0]\n",
    "prob_pertenecer_northamerica_o_clasificar_segunda_ronda"
   ]
  },
  {
   "cell_type": "code",
   "execution_count": 91,
   "id": "e791990d",
   "metadata": {},
   "outputs": [
    {
     "data": {
      "text/plain": [
       "0.09375"
      ]
     },
     "execution_count": 91,
     "metadata": {},
     "output_type": "execute_result"
    }
   ],
   "source": [
    "#r. pertenecer a África y haber ganado al menos un partido\n",
    "prob_africa_y_ganar_un_partido = df[(df['continent']== 'africa') &  (df['juegos_ganados'] >= 1)].shape[0] / df.shape[0]\n",
    "prob_africa_y_ganar_un_partido"
   ]
  },
  {
   "cell_type": "code",
   "execution_count": 93,
   "id": "4d20aa63",
   "metadata": {},
   "outputs": [
    {
     "data": {
      "text/plain": [
       "0.34375"
      ]
     },
     "execution_count": 93,
     "metadata": {},
     "output_type": "execute_result"
    }
   ],
   "source": [
    "#s. pertenecer a Europa y haber ganado al menos un partido\n",
    "\n",
    "\n",
    "prob_europa_y_ganar_un_partido = df[(df['continent']== 'europe') &  (df['juegos_ganados'] >= 1)].shape[0] / df.shape[0]\n",
    "prob_europa_y_ganar_un_partido"
   ]
  },
  {
   "cell_type": "code",
   "execution_count": 94,
   "id": "05f764b7",
   "metadata": {},
   "outputs": [
    {
     "data": {
      "text/plain": [
       "0.0"
      ]
     },
     "execution_count": 94,
     "metadata": {},
     "output_type": "execute_result"
    }
   ],
   "source": [
    "#t. pertenecer a Asia y haber ganado al menos un partido\n",
    "\n",
    "prob_asia_y_ganar_un_partido = df[(df['continent']== 'asia') &  (df['juegos_ganados'] >= 1)].shape[0] / df.shape[0]\n",
    "prob_asia_y_ganar_un_partido\n"
   ]
  },
  {
   "cell_type": "code",
   "execution_count": 95,
   "id": "fe1455f0",
   "metadata": {},
   "outputs": [
    {
     "data": {
      "text/plain": [
       "0.1875"
      ]
     },
     "execution_count": 95,
     "metadata": {},
     "output_type": "execute_result"
    }
   ],
   "source": [
    "#u. pertenecer a Sudamérica y haber ganado al menos un partido\n",
    "\n",
    "prob_southamerica_y_ganar_un_partido = df[(df['continent']== 'southamerica') &  (df['juegos_ganados'] >= 1)].shape[0] / df.shape[0]\n",
    "prob_southamerica_y_ganar_un_partido "
   ]
  },
  {
   "cell_type": "code",
   "execution_count": 96,
   "id": "88d860a6",
   "metadata": {},
   "outputs": [
    {
     "data": {
      "text/plain": [
       "0.09375"
      ]
     },
     "execution_count": 96,
     "metadata": {},
     "output_type": "execute_result"
    }
   ],
   "source": [
    "#v. pertenecer a Norteamérica y haber ganado al menos un partido\n",
    "prob_northamerica_y_ganar_un_partido = df[(df['continent']== 'northamerica') &  (df['juegos_ganados'] >= 1)].shape[0] / df.shape[0]\n",
    "prob_northamerica_y_ganar_un_partido "
   ]
  },
  {
   "cell_type": "code",
   "execution_count": 97,
   "id": "68232d13",
   "metadata": {},
   "outputs": [
    {
     "data": {
      "text/plain": [
       "0.5"
      ]
     },
     "execution_count": 97,
     "metadata": {},
     "output_type": "execute_result"
    }
   ],
   "source": [
    "#w. haber ganado al menos un partido y clasificar a segunda ronda\n",
    "\n",
    "prob_ganado_clasificado = df[(df['clasificado'] == 1) &  (df['juegos_ganados'] >= 1)].shape[0] / df.shape[0]\n",
    "prob_ganado_clasificado\n"
   ]
  },
  {
   "cell_type": "code",
   "execution_count": null,
   "id": "efd114d4",
   "metadata": {},
   "outputs": [],
   "source": [
    "#2. A partir de las probabilidades anteriores, y sin realizar conteos, calcular las siguientes probabilidades:"
   ]
  },
  {
   "cell_type": "code",
   "execution_count": 82,
   "id": "e66f529c",
   "metadata": {},
   "outputs": [
    {
     "data": {
      "text/plain": [
       "0.46153846153846156"
      ]
     },
     "execution_count": 82,
     "metadata": {},
     "output_type": "execute_result"
    }
   ],
   "source": [
    "#a. pertenecer a Europa, si se sabe que clasificó\n",
    "# P( pertecene europa / clasifico a segunda vuelta) = prob pertenecer europa y clasificar segunda ronda / prob pertenece europa\n",
    "prob_europa_clasifico_1= prob_pertenecer_europa_y_clasificar_segunda_ronda / pertenecer_a_europe \n",
    "prob_europa_clasifico_1"
   ]
  },
  {
   "cell_type": "code",
   "execution_count": 83,
   "id": "666e83fe",
   "metadata": {},
   "outputs": [
    {
     "data": {
      "text/plain": [
       "0.8333333333333334"
      ]
     },
     "execution_count": 83,
     "metadata": {},
     "output_type": "execute_result"
    }
   ],
   "source": [
    "#b. pertenecer a Sudamérica, si se sabe que clasificó\n",
    "# P( pertecene sudamerica / clasifico a segunda vuelta) = prob pertenecer sudamerica y clasificar segunda ronda / prob pertenece sudamerica\n",
    "\n",
    "prob_sudamerica_clasifico_2= prob_pertenecer_southamerica_y_clasificar_segunda_ronda  / pertenecer_a_southamerica  \n",
    "prob_sudamerica_clasifico_2"
   ]
  },
  {
   "cell_type": "code",
   "execution_count": 100,
   "id": "f24e479d",
   "metadata": {},
   "outputs": [
    {
     "data": {
      "text/plain": [
       "0.13043478260869565"
      ]
     },
     "execution_count": 100,
     "metadata": {},
     "output_type": "execute_result"
    }
   ],
   "source": [
    "#c. pertenecer a África, si se sabe que ganó al menos un partido\n",
    "# P( pertecene africa / gano al menos 1 partido) = prob pertenecer africa y gano al menos 1 partido / prob gano al menos 1 partido\n",
    "\n",
    "prob_africa_gano_un_partido_1=  prob_africa_y_ganar_un_partido / prob_ganar_al_menos_un_partido\n",
    "prob_africa_gano_un_partido_1"
   ]
  },
  {
   "cell_type": "code",
   "execution_count": 102,
   "id": "2f6c83ee",
   "metadata": {},
   "outputs": [
    {
     "data": {
      "text/plain": [
       "1.0"
      ]
     },
     "execution_count": 102,
     "metadata": {},
     "output_type": "execute_result"
    }
   ],
   "source": [
    "#d. haber ganado al menos un partido, si se sabe que clasificó\n",
    "\n",
    "#  P( ganar al menos 1 partido / clasifico) = prob ganar al menos 1 partido y clasificar a segunda ronda / prob clasificar\n",
    "\n",
    "prob_ganar_clasificar_2= prob_ganado_clasificado / prob_clasificacion_segunda_ronda\n",
    "prob_ganar_clasificar_2"
   ]
  },
  {
   "cell_type": "code",
   "execution_count": 104,
   "id": "ffaaf5a8",
   "metadata": {},
   "outputs": [
    {
     "data": {
      "text/plain": [
       "0.75"
      ]
     },
     "execution_count": 104,
     "metadata": {},
     "output_type": "execute_result"
    }
   ],
   "source": [
    "#e. haber ganado al menos un partido, si se sabe que pertenece a Norteamérica\n",
    "# P( haber ganado al menos 1 partido / pertenece a norteamerica) = prob haber ganado al menos 1 partido y ser de Norteamerica / prob pertenecer norteamerica\n",
    "\n",
    "\n",
    "prob_ganar_un_partido_norteamerica_3= prob_northamerica_y_ganar_un_partido / pertenecer_a_northamerica \n",
    "prob_ganar_un_partido_norteamerica_3"
   ]
  },
  {
   "cell_type": "code",
   "execution_count": 106,
   "id": "5143ebf8",
   "metadata": {},
   "outputs": [
    {
     "data": {
      "text/plain": [
       "0.6"
      ]
     },
     "execution_count": 106,
     "metadata": {},
     "output_type": "execute_result"
    }
   ],
   "source": [
    "#f. NO haber clasificado, si se sabe que pertenece a África\n",
    "# A clasifico\n",
    "# B africa\n",
    "# P(A- / B) = p(A- n B ) / P(B)      \n",
    "#Se usa la sgte igualdad P(A-n B)=P(B)−P(A∩B)\n",
    "#Luego  = ( P(B)−P(A∩B) ) /P(B)\n",
    "# Reemplazando\n",
    "\n",
    "probabildad_final = (pertenecer_a_africa- prob_pertenecer_africa_y_clasificar_segunda_ronda)/pertenecer_a_africa\n",
    "probabildad_final"
   ]
  }
 ],
 "metadata": {
  "kernelspec": {
   "display_name": "Python 3 (ipykernel)",
   "language": "python",
   "name": "python3"
  },
  "language_info": {
   "codemirror_mode": {
    "name": "ipython",
    "version": 3
   },
   "file_extension": ".py",
   "mimetype": "text/x-python",
   "name": "python",
   "nbconvert_exporter": "python",
   "pygments_lexer": "ipython3",
   "version": "3.11.5"
  }
 },
 "nbformat": 4,
 "nbformat_minor": 5
}
