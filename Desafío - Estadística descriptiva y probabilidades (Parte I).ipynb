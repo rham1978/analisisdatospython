{
 "cells": [
  {
   "cell_type": "code",
   "execution_count": 116,
   "id": "7815f390",
   "metadata": {},
   "outputs": [
    {
     "data": {
      "text/html": [
       "<div>\n",
       "<style scoped>\n",
       "    .dataframe tbody tr th:only-of-type {\n",
       "        vertical-align: middle;\n",
       "    }\n",
       "\n",
       "    .dataframe tbody tr th {\n",
       "        vertical-align: top;\n",
       "    }\n",
       "\n",
       "    .dataframe thead th {\n",
       "        text-align: right;\n",
       "    }\n",
       "</style>\n",
       "<table border=\"1\" class=\"dataframe\">\n",
       "  <thead>\n",
       "    <tr style=\"text-align: right;\">\n",
       "      <th></th>\n",
       "      <th>work_year</th>\n",
       "      <th>experience_level</th>\n",
       "      <th>employment_type</th>\n",
       "      <th>job_title</th>\n",
       "      <th>salary</th>\n",
       "      <th>salary_currency</th>\n",
       "      <th>salary_in_usd</th>\n",
       "      <th>employee_residence</th>\n",
       "      <th>remote_ratio</th>\n",
       "      <th>company_location</th>\n",
       "      <th>company_size</th>\n",
       "    </tr>\n",
       "  </thead>\n",
       "  <tbody>\n",
       "    <tr>\n",
       "      <th>0</th>\n",
       "      <td>2023</td>\n",
       "      <td>SE</td>\n",
       "      <td>FT</td>\n",
       "      <td>Principal Data Scientist</td>\n",
       "      <td>80000</td>\n",
       "      <td>EUR</td>\n",
       "      <td>85847</td>\n",
       "      <td>ES</td>\n",
       "      <td>100</td>\n",
       "      <td>ES</td>\n",
       "      <td>L</td>\n",
       "    </tr>\n",
       "    <tr>\n",
       "      <th>1</th>\n",
       "      <td>2023</td>\n",
       "      <td>MI</td>\n",
       "      <td>CT</td>\n",
       "      <td>ML Engineer</td>\n",
       "      <td>30000</td>\n",
       "      <td>USD</td>\n",
       "      <td>30000</td>\n",
       "      <td>US</td>\n",
       "      <td>100</td>\n",
       "      <td>US</td>\n",
       "      <td>S</td>\n",
       "    </tr>\n",
       "  </tbody>\n",
       "</table>\n",
       "</div>"
      ],
      "text/plain": [
       "   work_year experience_level employment_type                 job_title  \\\n",
       "0       2023               SE              FT  Principal Data Scientist   \n",
       "1       2023               MI              CT               ML Engineer   \n",
       "\n",
       "   salary salary_currency  salary_in_usd employee_residence  remote_ratio  \\\n",
       "0   80000             EUR          85847                 ES           100   \n",
       "1   30000             USD          30000                 US           100   \n",
       "\n",
       "  company_location company_size  \n",
       "0               ES            L  \n",
       "1               US            S  "
      ]
     },
     "execution_count": 116,
     "metadata": {},
     "output_type": "execute_result"
    }
   ],
   "source": [
    "import pandas as pd\n",
    "import random\n",
    "import numpy as np\n",
    "import matplotlib\n",
    "import matplotlib.pyplot as plt\n",
    "import seaborn  as sns\n",
    "\n",
    "\n",
    "\n",
    "df = pd.read_csv('ds_salaries.csv',delimiter=',')\n",
    "df.head(2)"
   ]
  },
  {
   "cell_type": "code",
   "execution_count": 18,
   "id": "2e1e41f3",
   "metadata": {},
   "outputs": [
    {
     "data": {
      "text/html": [
       "<div>\n",
       "<style scoped>\n",
       "    .dataframe tbody tr th:only-of-type {\n",
       "        vertical-align: middle;\n",
       "    }\n",
       "\n",
       "    .dataframe tbody tr th {\n",
       "        vertical-align: top;\n",
       "    }\n",
       "\n",
       "    .dataframe thead th {\n",
       "        text-align: right;\n",
       "    }\n",
       "</style>\n",
       "<table border=\"1\" class=\"dataframe\">\n",
       "  <thead>\n",
       "    <tr style=\"text-align: right;\">\n",
       "      <th></th>\n",
       "      <th>work_year</th>\n",
       "      <th>salary</th>\n",
       "      <th>salary_in_usd</th>\n",
       "      <th>remote_ratio</th>\n",
       "    </tr>\n",
       "  </thead>\n",
       "  <tbody>\n",
       "    <tr>\n",
       "      <th>count</th>\n",
       "      <td>3755.000000</td>\n",
       "      <td>3.755000e+03</td>\n",
       "      <td>3755.000000</td>\n",
       "      <td>3755.000000</td>\n",
       "    </tr>\n",
       "    <tr>\n",
       "      <th>mean</th>\n",
       "      <td>2022.373635</td>\n",
       "      <td>1.906956e+05</td>\n",
       "      <td>137570.389880</td>\n",
       "      <td>46.271638</td>\n",
       "    </tr>\n",
       "    <tr>\n",
       "      <th>std</th>\n",
       "      <td>0.691448</td>\n",
       "      <td>6.716765e+05</td>\n",
       "      <td>63055.625278</td>\n",
       "      <td>48.589050</td>\n",
       "    </tr>\n",
       "    <tr>\n",
       "      <th>min</th>\n",
       "      <td>2020.000000</td>\n",
       "      <td>6.000000e+03</td>\n",
       "      <td>5132.000000</td>\n",
       "      <td>0.000000</td>\n",
       "    </tr>\n",
       "    <tr>\n",
       "      <th>25%</th>\n",
       "      <td>2022.000000</td>\n",
       "      <td>1.000000e+05</td>\n",
       "      <td>95000.000000</td>\n",
       "      <td>0.000000</td>\n",
       "    </tr>\n",
       "    <tr>\n",
       "      <th>50%</th>\n",
       "      <td>2022.000000</td>\n",
       "      <td>1.380000e+05</td>\n",
       "      <td>135000.000000</td>\n",
       "      <td>0.000000</td>\n",
       "    </tr>\n",
       "    <tr>\n",
       "      <th>75%</th>\n",
       "      <td>2023.000000</td>\n",
       "      <td>1.800000e+05</td>\n",
       "      <td>175000.000000</td>\n",
       "      <td>100.000000</td>\n",
       "    </tr>\n",
       "    <tr>\n",
       "      <th>max</th>\n",
       "      <td>2023.000000</td>\n",
       "      <td>3.040000e+07</td>\n",
       "      <td>450000.000000</td>\n",
       "      <td>100.000000</td>\n",
       "    </tr>\n",
       "  </tbody>\n",
       "</table>\n",
       "</div>"
      ],
      "text/plain": [
       "         work_year        salary  salary_in_usd  remote_ratio\n",
       "count  3755.000000  3.755000e+03    3755.000000   3755.000000\n",
       "mean   2022.373635  1.906956e+05  137570.389880     46.271638\n",
       "std       0.691448  6.716765e+05   63055.625278     48.589050\n",
       "min    2020.000000  6.000000e+03    5132.000000      0.000000\n",
       "25%    2022.000000  1.000000e+05   95000.000000      0.000000\n",
       "50%    2022.000000  1.380000e+05  135000.000000      0.000000\n",
       "75%    2023.000000  1.800000e+05  175000.000000    100.000000\n",
       "max    2023.000000  3.040000e+07  450000.000000    100.000000"
      ]
     },
     "execution_count": 18,
     "metadata": {},
     "output_type": "execute_result"
    }
   ],
   "source": [
    "df.describe()"
   ]
  },
  {
   "cell_type": "code",
   "execution_count": 39,
   "id": "a65b91b4",
   "metadata": {},
   "outputs": [
    {
     "data": {
      "text/plain": [
       "137570.38988015978"
      ]
     },
     "execution_count": 39,
     "metadata": {},
     "output_type": "execute_result"
    }
   ],
   "source": [
    "#1.- El promedio general de los salarios, desviación estándar, quintiles y rango.\n",
    "# Promedio\n",
    "df['salary_in_usd'].mean()"
   ]
  },
  {
   "cell_type": "code",
   "execution_count": 40,
   "id": "c1ea8872",
   "metadata": {},
   "outputs": [
    {
     "data": {
      "text/plain": [
       "63055.625278224084"
      ]
     },
     "execution_count": 40,
     "metadata": {},
     "output_type": "execute_result"
    }
   ],
   "source": [
    "#Desviación Estándar\n",
    "df['salary_in_usd'].std()\n"
   ]
  },
  {
   "cell_type": "code",
   "execution_count": 41,
   "id": "241b35dd",
   "metadata": {},
   "outputs": [
    {
     "data": {
      "text/plain": [
       "95000.0"
      ]
     },
     "execution_count": 41,
     "metadata": {},
     "output_type": "execute_result"
    }
   ],
   "source": [
    "#Cuartiles\n",
    "df['salary_in_usd'].quantile(0.25)"
   ]
  },
  {
   "cell_type": "code",
   "execution_count": 42,
   "id": "c57a133e",
   "metadata": {},
   "outputs": [
    {
     "data": {
      "text/plain": [
       "135000.0"
      ]
     },
     "execution_count": 42,
     "metadata": {},
     "output_type": "execute_result"
    }
   ],
   "source": [
    "df['salary_in_usd'].quantile(0.5)"
   ]
  },
  {
   "cell_type": "code",
   "execution_count": 43,
   "id": "ff2bf9ef",
   "metadata": {},
   "outputs": [
    {
     "data": {
      "text/plain": [
       "175000.0"
      ]
     },
     "execution_count": 43,
     "metadata": {},
     "output_type": "execute_result"
    }
   ],
   "source": [
    "df['salary_in_usd'].quantile(0.75)"
   ]
  },
  {
   "cell_type": "code",
   "execution_count": 99,
   "id": "55cc149a",
   "metadata": {},
   "outputs": [
    {
     "data": {
      "text/plain": [
       "444868"
      ]
     },
     "execution_count": 99,
     "metadata": {},
     "output_type": "execute_result"
    }
   ],
   "source": [
    "minimo = df['salary_in_usd'].min() \n",
    "maximo = df['salary_in_usd'].max()\n",
    "\n",
    "Rango = maximo-minimo\n",
    "Rango\n"
   ]
  },
  {
   "cell_type": "code",
   "execution_count": null,
   "id": "cadb0da3",
   "metadata": {},
   "outputs": [],
   "source": [
    "#2. Una comparación entre los salarios agrupados por 3 diferentes categorías a tu elección. ¿Para cuál de ellas las medidas de tendencia central son más\n",
    "#representativas? ¿Para cuál son menos representativas? Explica."
   ]
  },
  {
   "cell_type": "code",
   "execution_count": 97,
   "id": "59b6d3cc",
   "metadata": {},
   "outputs": [
    {
     "data": {
      "text/plain": [
       "<matplotlib.legend.Legend at 0x2ad929a5290>"
      ]
     },
     "execution_count": 97,
     "metadata": {},
     "output_type": "execute_result"
    },
    {
     "data": {
      "image/png": "[encoded data removed]",
      "text/plain": [
       "<Figure size 1500x700 with 1 Axes>"
      ]
     },
     "metadata": {},
     "output_type": "display_data"
    }
   ],
   "source": [
    "fig, axes = plt.subplots(nrows = 1,figsize=(15,7))\n",
    "seaborn.histplot(df['salary_in_usd'],bins=25,color='gray', kde= True)\n",
    "plt.xlim(0,450000)\n",
    "\n",
    "\n",
    "axes.axvline(df['salary_in_usd'].mean(),color='red', linestyle = '--',label='Media')\n",
    "\n",
    "axes.axvline(df['salary_in_usd'].median(),color='green', linestyle = '-.',label='Mediana')\n",
    "\n",
    "axes.axvline(df['salary_in_usd'].quantile(0.25),color='orange', linestyle = '--',label='Q1')\n",
    "\n",
    "axes.axvline(df['salary_in_usd'].quantile(0.75),color='cyan', linestyle = '-.',label='Q3')\n",
    "\n",
    "axes.legend()\n",
    "\n",
    "\n"
   ]
  },
  {
   "cell_type": "code",
   "execution_count": 113,
   "id": "168baf5f",
   "metadata": {},
   "outputs": [
    {
     "data": {
      "text/plain": [
       "<matplotlib.lines.Line2D at 0x2ad93c73d90>"
      ]
     },
     "execution_count": 113,
     "metadata": {},
     "output_type": "execute_result"
    },
    {
     "data": {
      "image/png": "[encoded data removed]",
      "text/plain": [
       "<Figure size 1000x500 with 1 Axes>"
      ]
     },
     "metadata": {},
     "output_type": "display_data"
    }
   ],
   "source": [
    "fig, axes = plt.subplots(nrows = 1,figsize=(10,5))\n",
    "seaborn.boxplot(df['salary_in_usd'],color='blue',orient='h')\n",
    "plt.xlim(0,450000)\n",
    "axes.axvline(df['salary_in_usd'].mean(),color='orangered', linestyle = '--',label='Media')"
   ]
  },
  {
   "cell_type": "code",
   "execution_count": 117,
   "id": "3d73765e",
   "metadata": {},
   "outputs": [
    {
     "data": {
      "image/png": "[encoded data removed]",
      "text/plain": [
       "<Figure size 1000x500 with 1 Axes>"
      ]
     },
     "metadata": {},
     "output_type": "display_data"
    }
   ],
   "source": [
    "#experience_level\n",
    "\n",
    "fig, axes = plt.subplots(nrows=1, figsize=(10, 5))\n",
    "sns.boxplot(x='salary_in_usd', y='experience_level', data=df, color='blue', orient='h')\n",
    "plt.xlim(0, 450000)\n",
    "axes.axvline(df['salary_in_usd'].mean(), color='orangered', linestyle='--', label='Media')\n",
    "plt.show()\n"
   ]
  },
  {
   "cell_type": "code",
   "execution_count": 130,
   "id": "2f5b69de",
   "metadata": {},
   "outputs": [
    {
     "data": {
      "text/html": [
       "<div>\n",
       "<style scoped>\n",
       "    .dataframe tbody tr th:only-of-type {\n",
       "        vertical-align: middle;\n",
       "    }\n",
       "\n",
       "    .dataframe tbody tr th {\n",
       "        vertical-align: top;\n",
       "    }\n",
       "\n",
       "    .dataframe thead tr th {\n",
       "        text-align: left;\n",
       "    }\n",
       "\n",
       "    .dataframe thead tr:last-of-type th {\n",
       "        text-align: right;\n",
       "    }\n",
       "</style>\n",
       "<table border=\"1\" class=\"dataframe\">\n",
       "  <thead>\n",
       "    <tr>\n",
       "      <th></th>\n",
       "      <th>count</th>\n",
       "      <th>mean</th>\n",
       "      <th>median</th>\n",
       "      <th>std</th>\n",
       "    </tr>\n",
       "    <tr>\n",
       "      <th></th>\n",
       "      <th>salary_in_usd</th>\n",
       "      <th>salary_in_usd</th>\n",
       "      <th>salary_in_usd</th>\n",
       "      <th>salary_in_usd</th>\n",
       "    </tr>\n",
       "    <tr>\n",
       "      <th>experience_level</th>\n",
       "      <th></th>\n",
       "      <th></th>\n",
       "      <th></th>\n",
       "      <th></th>\n",
       "    </tr>\n",
       "  </thead>\n",
       "  <tbody>\n",
       "    <tr>\n",
       "      <th>EN</th>\n",
       "      <td>320</td>\n",
       "      <td>78546.284375</td>\n",
       "      <td>70000</td>\n",
       "      <td>52225.424309</td>\n",
       "    </tr>\n",
       "    <tr>\n",
       "      <th>EX</th>\n",
       "      <td>114</td>\n",
       "      <td>194930.929825</td>\n",
       "      <td>196000</td>\n",
       "      <td>70661.929661</td>\n",
       "    </tr>\n",
       "    <tr>\n",
       "      <th>MI</th>\n",
       "      <td>805</td>\n",
       "      <td>104525.939130</td>\n",
       "      <td>100000</td>\n",
       "      <td>54387.685128</td>\n",
       "    </tr>\n",
       "    <tr>\n",
       "      <th>SE</th>\n",
       "      <td>2516</td>\n",
       "      <td>153051.071542</td>\n",
       "      <td>146000</td>\n",
       "      <td>56896.263954</td>\n",
       "    </tr>\n",
       "  </tbody>\n",
       "</table>\n",
       "</div>"
      ],
      "text/plain": [
       "                         count           mean        median           std\n",
       "                 salary_in_usd  salary_in_usd salary_in_usd salary_in_usd\n",
       "experience_level                                                         \n",
       "EN                         320   78546.284375         70000  52225.424309\n",
       "EX                         114  194930.929825        196000  70661.929661\n",
       "MI                         805  104525.939130        100000  54387.685128\n",
       "SE                        2516  153051.071542        146000  56896.263954"
      ]
     },
     "execution_count": 130,
     "metadata": {},
     "output_type": "execute_result"
    }
   ],
   "source": [
    "tabla_pivote_experience_level = pd.pivot_table(df, values='salary_in_usd', index='experience_level' , aggfunc=['count','mean', 'median','std'])\n",
    "tabla_pivote_experience_level"
   ]
  },
  {
   "cell_type": "code",
   "execution_count": 119,
   "id": "5c13dc4e",
   "metadata": {},
   "outputs": [
    {
     "data": {
      "image/png": "[encoded data removed]",
      "text/plain": [
       "<Figure size 1000x500 with 1 Axes>"
      ]
     },
     "metadata": {},
     "output_type": "display_data"
    }
   ],
   "source": [
    "#employment_type\n",
    "fig, axes = plt.subplots(nrows=1, figsize=(10, 5))\n",
    "sns.boxplot(x='salary_in_usd', y='employment_type', data=df, color='blue', orient='h')\n",
    "plt.xlim(0, 450000)\n",
    "axes.axvline(df['salary_in_usd'].mean(), color='orangered', linestyle='--', label='Media')\n",
    "plt.show()"
   ]
  },
  {
   "cell_type": "code",
   "execution_count": 126,
   "id": "efd4a8c5",
   "metadata": {},
   "outputs": [
    {
     "data": {
      "text/html": [
       "<div>\n",
       "<style scoped>\n",
       "    .dataframe tbody tr th:only-of-type {\n",
       "        vertical-align: middle;\n",
       "    }\n",
       "\n",
       "    .dataframe tbody tr th {\n",
       "        vertical-align: top;\n",
       "    }\n",
       "\n",
       "    .dataframe thead tr th {\n",
       "        text-align: left;\n",
       "    }\n",
       "\n",
       "    .dataframe thead tr:last-of-type th {\n",
       "        text-align: right;\n",
       "    }\n",
       "</style>\n",
       "<table border=\"1\" class=\"dataframe\">\n",
       "  <thead>\n",
       "    <tr>\n",
       "      <th></th>\n",
       "      <th>count</th>\n",
       "      <th>mean</th>\n",
       "      <th>median</th>\n",
       "      <th>std</th>\n",
       "    </tr>\n",
       "    <tr>\n",
       "      <th></th>\n",
       "      <th>salary_in_usd</th>\n",
       "      <th>salary_in_usd</th>\n",
       "      <th>salary_in_usd</th>\n",
       "      <th>salary_in_usd</th>\n",
       "    </tr>\n",
       "    <tr>\n",
       "      <th>employment_type</th>\n",
       "      <th></th>\n",
       "      <th></th>\n",
       "      <th></th>\n",
       "      <th></th>\n",
       "    </tr>\n",
       "  </thead>\n",
       "  <tbody>\n",
       "    <tr>\n",
       "      <th>CT</th>\n",
       "      <td>10</td>\n",
       "      <td>113446.900000</td>\n",
       "      <td>75000</td>\n",
       "      <td>130176.746842</td>\n",
       "    </tr>\n",
       "    <tr>\n",
       "      <th>FL</th>\n",
       "      <td>10</td>\n",
       "      <td>51807.800000</td>\n",
       "      <td>50000</td>\n",
       "      <td>29458.879336</td>\n",
       "    </tr>\n",
       "    <tr>\n",
       "      <th>FT</th>\n",
       "      <td>3718</td>\n",
       "      <td>138314.199570</td>\n",
       "      <td>135000</td>\n",
       "      <td>62452.177613</td>\n",
       "    </tr>\n",
       "    <tr>\n",
       "      <th>PT</th>\n",
       "      <td>17</td>\n",
       "      <td>39533.705882</td>\n",
       "      <td>21669</td>\n",
       "      <td>38312.145181</td>\n",
       "    </tr>\n",
       "  </tbody>\n",
       "</table>\n",
       "</div>"
      ],
      "text/plain": [
       "                        count           mean        median            std\n",
       "                salary_in_usd  salary_in_usd salary_in_usd  salary_in_usd\n",
       "employment_type                                                          \n",
       "CT                         10  113446.900000         75000  130176.746842\n",
       "FL                         10   51807.800000         50000   29458.879336\n",
       "FT                       3718  138314.199570        135000   62452.177613\n",
       "PT                         17   39533.705882         21669   38312.145181"
      ]
     },
     "execution_count": 126,
     "metadata": {},
     "output_type": "execute_result"
    }
   ],
   "source": [
    "tabla_pivote_employment_type = pd.pivot_table(df, values='salary_in_usd', index='employment_type' , aggfunc=['count','mean', 'median','std'])\n",
    "tabla_pivote_employment_type"
   ]
  },
  {
   "cell_type": "code",
   "execution_count": null,
   "id": "a25babbf",
   "metadata": {},
   "outputs": [],
   "source": [
    "#remote_ratio"
   ]
  },
  {
   "cell_type": "code",
   "execution_count": 121,
   "id": "928ad680",
   "metadata": {},
   "outputs": [
    {
     "data": {
      "image/png": "[encoded data removed]",
      "text/plain": [
       "<Figure size 1000x500 with 1 Axes>"
      ]
     },
     "metadata": {},
     "output_type": "display_data"
    }
   ],
   "source": [
    "fig, axes = plt.subplots(nrows=1, figsize=(10, 5))\n",
    "sns.boxplot(x='salary_in_usd', y='remote_ratio', data=df, color='blue', orient='h')\n",
    "plt.xlim(0, 450000)\n",
    "axes.axvline(df['salary_in_usd'].mean(), color='orangered', linestyle='--', label='Media')\n",
    "plt.show()"
   ]
  },
  {
   "cell_type": "code",
   "execution_count": 127,
   "id": "90023002",
   "metadata": {},
   "outputs": [
    {
     "data": {
      "text/html": [
       "<div>\n",
       "<style scoped>\n",
       "    .dataframe tbody tr th:only-of-type {\n",
       "        vertical-align: middle;\n",
       "    }\n",
       "\n",
       "    .dataframe tbody tr th {\n",
       "        vertical-align: top;\n",
       "    }\n",
       "\n",
       "    .dataframe thead tr th {\n",
       "        text-align: left;\n",
       "    }\n",
       "\n",
       "    .dataframe thead tr:last-of-type th {\n",
       "        text-align: right;\n",
       "    }\n",
       "</style>\n",
       "<table border=\"1\" class=\"dataframe\">\n",
       "  <thead>\n",
       "    <tr>\n",
       "      <th></th>\n",
       "      <th>count</th>\n",
       "      <th>mean</th>\n",
       "      <th>median</th>\n",
       "      <th>std</th>\n",
       "    </tr>\n",
       "    <tr>\n",
       "      <th></th>\n",
       "      <th>salary_in_usd</th>\n",
       "      <th>salary_in_usd</th>\n",
       "      <th>salary_in_usd</th>\n",
       "      <th>salary_in_usd</th>\n",
       "    </tr>\n",
       "    <tr>\n",
       "      <th>remote_ratio</th>\n",
       "      <th></th>\n",
       "      <th></th>\n",
       "      <th></th>\n",
       "      <th></th>\n",
       "    </tr>\n",
       "  </thead>\n",
       "  <tbody>\n",
       "    <tr>\n",
       "      <th>0</th>\n",
       "      <td>1923</td>\n",
       "      <td>144316.202288</td>\n",
       "      <td>139600</td>\n",
       "      <td>59799.970864</td>\n",
       "    </tr>\n",
       "    <tr>\n",
       "      <th>50</th>\n",
       "      <td>189</td>\n",
       "      <td>78400.687831</td>\n",
       "      <td>63312</td>\n",
       "      <td>61326.133522</td>\n",
       "    </tr>\n",
       "    <tr>\n",
       "      <th>100</th>\n",
       "      <td>1643</td>\n",
       "      <td>136481.452830</td>\n",
       "      <td>135000</td>\n",
       "      <td>63373.507699</td>\n",
       "    </tr>\n",
       "  </tbody>\n",
       "</table>\n",
       "</div>"
      ],
      "text/plain": [
       "                     count           mean        median           std\n",
       "             salary_in_usd  salary_in_usd salary_in_usd salary_in_usd\n",
       "remote_ratio                                                         \n",
       "0                     1923  144316.202288        139600  59799.970864\n",
       "50                     189   78400.687831         63312  61326.133522\n",
       "100                   1643  136481.452830        135000  63373.507699"
      ]
     },
     "execution_count": 127,
     "metadata": {},
     "output_type": "execute_result"
    }
   ],
   "source": [
    "tabla_pivote_remote_ratio = pd.pivot_table(df, values='salary_in_usd', index='remote_ratio' , aggfunc=['count','mean', 'median','std'])\n",
    "tabla_pivote_remote_ratio"
   ]
  },
  {
   "cell_type": "code",
   "execution_count": null,
   "id": "2415ab10",
   "metadata": {},
   "outputs": [],
   "source": [
    "# De acuerdo a las categorias seleccionadas, que representan clasificadores de los salarios en usd, se puede observar que las\n",
    "# 3 categorias\n",
    "# concuerdan con una maypr cantidad de datos a la derecha. \n",
    "# Al revisar por categoria,employment_type esta concentradas en FT (tiempo completo) lo cual no es una buena medida usar para calculo\n",
    "# tendencia central, ya que concentrada en demasia en una categoria.\n",
    "# La categoria remote_ratio es la mejor categoria para usar medida de tendencia central, debido\n",
    "# a que cuenta con una distribución no tanto en los extremos.\n",
    "# En un nivel intermedio tenemos a experience_level\n",
    "\n",
    "\n",
    "\n"
   ]
  },
  {
   "cell_type": "code",
   "execution_count": null,
   "id": "1bc7806d",
   "metadata": {},
   "outputs": [],
   "source": []
  },
  {
   "cell_type": "code",
   "execution_count": 100,
   "id": "14708148",
   "metadata": {},
   "outputs": [
    {
     "data": {
      "text/html": [
       "<div>\n",
       "<style scoped>\n",
       "    .dataframe tbody tr th:only-of-type {\n",
       "        vertical-align: middle;\n",
       "    }\n",
       "\n",
       "    .dataframe tbody tr th {\n",
       "        vertical-align: top;\n",
       "    }\n",
       "\n",
       "    .dataframe thead th {\n",
       "        text-align: right;\n",
       "    }\n",
       "</style>\n",
       "<table border=\"1\" class=\"dataframe\">\n",
       "  <thead>\n",
       "    <tr style=\"text-align: right;\">\n",
       "      <th></th>\n",
       "      <th>work_year</th>\n",
       "      <th>experience_level</th>\n",
       "      <th>employment_type</th>\n",
       "      <th>job_title</th>\n",
       "      <th>salary</th>\n",
       "      <th>salary_currency</th>\n",
       "      <th>salary_in_usd</th>\n",
       "      <th>employee_residence</th>\n",
       "      <th>remote_ratio</th>\n",
       "      <th>company_location</th>\n",
       "      <th>company_size</th>\n",
       "    </tr>\n",
       "  </thead>\n",
       "  <tbody>\n",
       "    <tr>\n",
       "      <th>1</th>\n",
       "      <td>2023</td>\n",
       "      <td>MI</td>\n",
       "      <td>CT</td>\n",
       "      <td>ML Engineer</td>\n",
       "      <td>30000</td>\n",
       "      <td>USD</td>\n",
       "      <td>30000</td>\n",
       "      <td>US</td>\n",
       "      <td>100</td>\n",
       "      <td>US</td>\n",
       "      <td>S</td>\n",
       "    </tr>\n",
       "    <tr>\n",
       "      <th>2</th>\n",
       "      <td>2023</td>\n",
       "      <td>MI</td>\n",
       "      <td>CT</td>\n",
       "      <td>ML Engineer</td>\n",
       "      <td>25500</td>\n",
       "      <td>USD</td>\n",
       "      <td>25500</td>\n",
       "      <td>US</td>\n",
       "      <td>100</td>\n",
       "      <td>US</td>\n",
       "      <td>S</td>\n",
       "    </tr>\n",
       "    <tr>\n",
       "      <th>5</th>\n",
       "      <td>2023</td>\n",
       "      <td>SE</td>\n",
       "      <td>FT</td>\n",
       "      <td>Applied Scientist</td>\n",
       "      <td>222200</td>\n",
       "      <td>USD</td>\n",
       "      <td>222200</td>\n",
       "      <td>US</td>\n",
       "      <td>0</td>\n",
       "      <td>US</td>\n",
       "      <td>L</td>\n",
       "    </tr>\n",
       "    <tr>\n",
       "      <th>6</th>\n",
       "      <td>2023</td>\n",
       "      <td>SE</td>\n",
       "      <td>FT</td>\n",
       "      <td>Applied Scientist</td>\n",
       "      <td>136000</td>\n",
       "      <td>USD</td>\n",
       "      <td>136000</td>\n",
       "      <td>US</td>\n",
       "      <td>0</td>\n",
       "      <td>US</td>\n",
       "      <td>L</td>\n",
       "    </tr>\n",
       "    <tr>\n",
       "      <th>9</th>\n",
       "      <td>2023</td>\n",
       "      <td>SE</td>\n",
       "      <td>FT</td>\n",
       "      <td>Data Scientist</td>\n",
       "      <td>147100</td>\n",
       "      <td>USD</td>\n",
       "      <td>147100</td>\n",
       "      <td>US</td>\n",
       "      <td>0</td>\n",
       "      <td>US</td>\n",
       "      <td>M</td>\n",
       "    </tr>\n",
       "    <tr>\n",
       "      <th>...</th>\n",
       "      <td>...</td>\n",
       "      <td>...</td>\n",
       "      <td>...</td>\n",
       "      <td>...</td>\n",
       "      <td>...</td>\n",
       "      <td>...</td>\n",
       "      <td>...</td>\n",
       "      <td>...</td>\n",
       "      <td>...</td>\n",
       "      <td>...</td>\n",
       "      <td>...</td>\n",
       "    </tr>\n",
       "    <tr>\n",
       "      <th>3749</th>\n",
       "      <td>2021</td>\n",
       "      <td>SE</td>\n",
       "      <td>FT</td>\n",
       "      <td>Data Specialist</td>\n",
       "      <td>165000</td>\n",
       "      <td>USD</td>\n",
       "      <td>165000</td>\n",
       "      <td>US</td>\n",
       "      <td>100</td>\n",
       "      <td>US</td>\n",
       "      <td>L</td>\n",
       "    </tr>\n",
       "    <tr>\n",
       "      <th>3750</th>\n",
       "      <td>2020</td>\n",
       "      <td>SE</td>\n",
       "      <td>FT</td>\n",
       "      <td>Data Scientist</td>\n",
       "      <td>412000</td>\n",
       "      <td>USD</td>\n",
       "      <td>412000</td>\n",
       "      <td>US</td>\n",
       "      <td>100</td>\n",
       "      <td>US</td>\n",
       "      <td>L</td>\n",
       "    </tr>\n",
       "    <tr>\n",
       "      <th>3751</th>\n",
       "      <td>2021</td>\n",
       "      <td>MI</td>\n",
       "      <td>FT</td>\n",
       "      <td>Principal Data Scientist</td>\n",
       "      <td>151000</td>\n",
       "      <td>USD</td>\n",
       "      <td>151000</td>\n",
       "      <td>US</td>\n",
       "      <td>100</td>\n",
       "      <td>US</td>\n",
       "      <td>L</td>\n",
       "    </tr>\n",
       "    <tr>\n",
       "      <th>3752</th>\n",
       "      <td>2020</td>\n",
       "      <td>EN</td>\n",
       "      <td>FT</td>\n",
       "      <td>Data Scientist</td>\n",
       "      <td>105000</td>\n",
       "      <td>USD</td>\n",
       "      <td>105000</td>\n",
       "      <td>US</td>\n",
       "      <td>100</td>\n",
       "      <td>US</td>\n",
       "      <td>S</td>\n",
       "    </tr>\n",
       "    <tr>\n",
       "      <th>3753</th>\n",
       "      <td>2020</td>\n",
       "      <td>EN</td>\n",
       "      <td>CT</td>\n",
       "      <td>Business Data Analyst</td>\n",
       "      <td>100000</td>\n",
       "      <td>USD</td>\n",
       "      <td>100000</td>\n",
       "      <td>US</td>\n",
       "      <td>100</td>\n",
       "      <td>US</td>\n",
       "      <td>L</td>\n",
       "    </tr>\n",
       "  </tbody>\n",
       "</table>\n",
       "<p>3040 rows × 11 columns</p>\n",
       "</div>"
      ],
      "text/plain": [
       "      work_year experience_level employment_type                 job_title  \\\n",
       "1          2023               MI              CT               ML Engineer   \n",
       "2          2023               MI              CT               ML Engineer   \n",
       "5          2023               SE              FT         Applied Scientist   \n",
       "6          2023               SE              FT         Applied Scientist   \n",
       "9          2023               SE              FT            Data Scientist   \n",
       "...         ...              ...             ...                       ...   \n",
       "3749       2021               SE              FT           Data Specialist   \n",
       "3750       2020               SE              FT            Data Scientist   \n",
       "3751       2021               MI              FT  Principal Data Scientist   \n",
       "3752       2020               EN              FT            Data Scientist   \n",
       "3753       2020               EN              CT     Business Data Analyst   \n",
       "\n",
       "      salary salary_currency  salary_in_usd employee_residence  remote_ratio  \\\n",
       "1      30000             USD          30000                 US           100   \n",
       "2      25500             USD          25500                 US           100   \n",
       "5     222200             USD         222200                 US             0   \n",
       "6     136000             USD         136000                 US             0   \n",
       "9     147100             USD         147100                 US             0   \n",
       "...      ...             ...            ...                ...           ...   \n",
       "3749  165000             USD         165000                 US           100   \n",
       "3750  412000             USD         412000                 US           100   \n",
       "3751  151000             USD         151000                 US           100   \n",
       "3752  105000             USD         105000                 US           100   \n",
       "3753  100000             USD         100000                 US           100   \n",
       "\n",
       "     company_location company_size  \n",
       "1                  US            S  \n",
       "2                  US            S  \n",
       "5                  US            L  \n",
       "6                  US            L  \n",
       "9                  US            M  \n",
       "...               ...          ...  \n",
       "3749               US            L  \n",
       "3750               US            L  \n",
       "3751               US            L  \n",
       "3752               US            S  \n",
       "3753               US            L  \n",
       "\n",
       "[3040 rows x 11 columns]"
      ]
     },
     "execution_count": 100,
     "metadata": {},
     "output_type": "execute_result"
    }
   ],
   "source": [
    "#3. ¿Qué cargos reciben mejores sueldos en las empresas con sede en Estados Unidos?\n",
    "\n",
    "\n",
    "df_company_us = df[df['company_location'] == 'US']\n",
    "df_company_us\n"
   ]
  },
  {
   "cell_type": "code",
   "execution_count": 101,
   "id": "4a84c2f6",
   "metadata": {},
   "outputs": [
    {
     "data": {
      "text/plain": [
       "job_title\n",
       "AI Developer                           200000.000000\n",
       "AI Scientist                           113428.571429\n",
       "Analytics Engineer                     159024.347826\n",
       "Applied Data Scientist                 238000.000000\n",
       "Applied Machine Learning Engineer      130000.000000\n",
       "                                           ...      \n",
       "Principal Machine Learning Engineer    190000.000000\n",
       "Product Data Analyst                   120000.000000\n",
       "Research Engineer                      168156.580645\n",
       "Research Scientist                     179146.206897\n",
       "Staff Data Scientist                   105000.000000\n",
       "Name: salary_in_usd, Length: 70, dtype: float64"
      ]
     },
     "execution_count": 101,
     "metadata": {},
     "output_type": "execute_result"
    }
   ],
   "source": [
    "jobs = df_company_us.groupby('job_title')['salary_in_usd'].mean()\n",
    "jobs"
   ]
  },
  {
   "cell_type": "code",
   "execution_count": 102,
   "id": "5d1aac7d",
   "metadata": {},
   "outputs": [
    {
     "data": {
      "text/plain": [
       "job_title\n",
       "Data Analytics Lead          405000.000000\n",
       "Data Science Tech Lead       375000.000000\n",
       "Director of Data Science     294375.000000\n",
       "Principal Data Scientist     255500.000000\n",
       "Cloud Data Architect         250000.000000\n",
       "                                 ...      \n",
       "Data Quality Analyst          82863.333333\n",
       "BI Data Analyst               82709.833333\n",
       "Data Analytics Consultant     81500.000000\n",
       "Big Data Engineer             70000.000000\n",
       "BI Data Engineer              60000.000000\n",
       "Name: salary_in_usd, Length: 70, dtype: float64"
      ]
     },
     "execution_count": 102,
     "metadata": {},
     "output_type": "execute_result"
    }
   ],
   "source": [
    "jobs.sort_values(ascending=False)\n",
    "    "
   ]
  },
  {
   "cell_type": "code",
   "execution_count": 103,
   "id": "525c44a7",
   "metadata": {},
   "outputs": [
    {
     "data": {
      "text/plain": [
       "Index(['Data Analytics Lead', 'Data Science Tech Lead',\n",
       "       'Director of Data Science', 'Principal Data Scientist',\n",
       "       'Cloud Data Architect'],\n",
       "      dtype='object', name='job_title')"
      ]
     },
     "execution_count": 103,
     "metadata": {},
     "output_type": "execute_result"
    }
   ],
   "source": [
    "jobs.sort_values(ascending=False)[0:5].index"
   ]
  },
  {
   "cell_type": "code",
   "execution_count": null,
   "id": "9a901426",
   "metadata": {},
   "outputs": [],
   "source": []
  }
 ],
 "metadata": {
  "kernelspec": {
   "display_name": "Python 3 (ipykernel)",
   "language": "python",
   "name": "python3"
  },
  "language_info": {
   "codemirror_mode": {
    "name": "ipython",
    "version": 3
   },
   "file_extension": ".py",
   "mimetype": "text/x-python",
   "name": "python",
   "nbconvert_exporter": "python",
   "pygments_lexer": "ipython3",
   "version": "3.11.5"
  }
 },
 "nbformat": 4,
 "nbformat_minor": 5
}
